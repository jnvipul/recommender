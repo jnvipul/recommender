{
 "cells": [
  {
   "cell_type": "code",
   "execution_count": null,
   "metadata": {},
   "outputs": [],
   "source": [
    "import numpy as np\n",
    "import pandas as pd\n",
    "from apyori import apriori"
   ]
  },
  {
   "cell_type": "code",
   "execution_count": null,
   "metadata": {},
   "outputs": [],
   "source": [
    "%%bash\n",
    "ls"
   ]
  },
  {
   "cell_type": "code",
   "execution_count": null,
   "metadata": {},
   "outputs": [],
   "source": [
    "store_data = pd.read_csv('store_data.csv', header=None)\n",
    "store_data.shape"
   ]
  },
  {
   "cell_type": "code",
   "execution_count": null,
   "metadata": {},
   "outputs": [],
   "source": [
    "store_data.info()"
   ]
  },
  {
   "cell_type": "code",
   "execution_count": null,
   "metadata": {},
   "outputs": [],
   "source": [
    "store_data.head()"
   ]
  },
  {
   "cell_type": "markdown",
   "metadata": {},
   "source": [
    "### Apriori "
   ]
  },
  {
   "cell_type": "markdown",
   "metadata": {},
   "source": [
    "The algorithm takes a list of list as an input. Each transaction is inner list."
   ]
  },
  {
   "cell_type": "code",
   "execution_count": 56,
   "metadata": {},
   "outputs": [],
   "source": [
    "# Convert dataframe to list of lists\n",
    "records = []\n",
    "for i in range(0, 7501):  \n",
    "    records.append([str(store_data.values[i,j]) for j in range(0, 20)])\n"
   ]
  },
  {
   "cell_type": "code",
   "execution_count": 73,
   "metadata": {},
   "outputs": [],
   "source": [
    "rules = apriori(records, min_support=0.0045, min_confidence=0.2, min_lift=3, min_length=3)  "
   ]
  },
  {
   "cell_type": "code",
   "execution_count": null,
   "metadata": {
    "scrolled": false
   },
   "outputs": [],
   "source": []
  },
  {
   "cell_type": "code",
   "execution_count": 74,
   "metadata": {},
   "outputs": [],
   "source": [
    "association_rules = list(rules)"
   ]
  },
  {
   "cell_type": "code",
   "execution_count": 88,
   "metadata": {},
   "outputs": [
    {
     "data": {
      "text/plain": [
       "RelationRecord(items=frozenset({'ground beef', 'cooking oil', 'spaghetti'}), support=0.004799360085321957, ordered_statistics=[OrderedStatistic(items_base=frozenset({'ground beef', 'cooking oil'}), items_add=frozenset({'spaghetti'}), confidence=0.5714285714285714, lift=3.2819951870487856), OrderedStatistic(items_base=frozenset({'spaghetti', 'cooking oil'}), items_add=frozenset({'ground beef'}), confidence=0.3025210084033613, lift=3.0789824749438446)])"
      ]
     },
     "execution_count": 88,
     "metadata": {},
     "output_type": "execute_result"
    }
   ],
   "source": [
    "association_rules[9]"
   ]
  },
  {
   "cell_type": "code",
   "execution_count": 87,
   "metadata": {},
   "outputs": [
    {
     "name": "stdout",
     "output_type": "stream",
     "text": [
      "Rule: ['light cream'] -> chicken\n",
      "Support: 0.004532728969470737\n",
      "Confidence: 0.29059829059829057\n",
      "Lift: 4.84395061728395\n",
      "=====================================\n",
      "Rule: ['escalope'] -> mushroom cream sauce\n",
      "Support: 0.005732568990801226\n",
      "Confidence: 0.3006993006993007\n",
      "Lift: 3.790832696715049\n",
      "=====================================\n",
      "Rule: ['escalope'] -> pasta\n",
      "Support: 0.005865884548726837\n",
      "Confidence: 0.3728813559322034\n",
      "Lift: 4.700811850163794\n",
      "=====================================\n",
      "Rule: ['ground beef'] -> herb & pepper\n",
      "Support: 0.015997866951073192\n",
      "Confidence: 0.3234501347708895\n",
      "Lift: 3.2919938411349285\n",
      "=====================================\n",
      "Rule: ['ground beef'] -> tomato sauce\n",
      "Support: 0.005332622317024397\n",
      "Confidence: 0.3773584905660377\n",
      "Lift: 3.840659481324083\n",
      "=====================================\n",
      "Rule: ['whole wheat pasta'] -> olive oil\n",
      "Support: 0.007998933475536596\n",
      "Confidence: 0.2714932126696833\n",
      "Lift: 4.122410097642296\n",
      "=====================================\n",
      "Rule: ['shrimp'] -> pasta\n",
      "Support: 0.005065991201173177\n",
      "Confidence: 0.3220338983050847\n",
      "Lift: 4.506672147735896\n",
      "=====================================\n",
      "Rule: ['light cream', 'nan'] -> chicken\n",
      "Support: 0.004532728969470737\n",
      "Confidence: 0.29059829059829057\n",
      "Lift: 4.84395061728395\n",
      "=====================================\n",
      "Rule: ['frozen vegetables', 'shrimp'] -> chocolate\n",
      "Support: 0.005332622317024397\n",
      "Confidence: 0.23255813953488375\n",
      "Lift: 3.2545123221103784\n",
      "=====================================\n",
      "Rule: ['ground beef', 'cooking oil'] -> spaghetti\n",
      "Support: 0.004799360085321957\n",
      "Confidence: 0.5714285714285714\n",
      "Lift: 3.2819951870487856\n",
      "=====================================\n",
      "Rule: ['escalope', 'mushroom cream sauce'] -> nan\n",
      "Support: 0.005732568990801226\n",
      "Confidence: 0.3006993006993007\n",
      "Lift: 3.790832696715049\n",
      "=====================================\n",
      "Rule: ['escalope', 'nan'] -> pasta\n",
      "Support: 0.005865884548726837\n",
      "Confidence: 0.3728813559322034\n",
      "Lift: 4.700811850163794\n",
      "=====================================\n",
      "Rule: ['frozen vegetables', 'ground beef'] -> spaghetti\n",
      "Support: 0.008665511265164644\n",
      "Confidence: 0.31100478468899523\n",
      "Lift: 3.165328208890303\n",
      "=====================================\n",
      "Rule: ['frozen vegetables', 'milk'] -> olive oil\n",
      "Support: 0.004799360085321957\n",
      "Confidence: 0.20338983050847456\n",
      "Lift: 3.088314005352364\n",
      "=====================================\n",
      "Rule: ['frozen vegetables', 'shrimp'] -> mineral water\n",
      "Support: 0.007199040127982935\n",
      "Confidence: 0.30508474576271183\n",
      "Lift: 3.200616332819722\n",
      "=====================================\n",
      "Rule: ['frozen vegetables', 'spaghetti'] -> olive oil\n",
      "Support: 0.005732568990801226\n",
      "Confidence: 0.20574162679425836\n",
      "Lift: 3.1240241752707125\n",
      "=====================================\n",
      "Rule: ['frozen vegetables', 'shrimp'] -> spaghetti\n",
      "Support: 0.005999200106652446\n",
      "Confidence: 0.21531100478468898\n",
      "Lift: 3.0131489680782684\n",
      "=====================================\n",
      "Rule: ['frozen vegetables', 'tomatoes'] -> spaghetti\n",
      "Support: 0.006665777896280496\n",
      "Confidence: 0.23923444976076558\n",
      "Lift: 3.4980460188216425\n",
      "=====================================\n",
      "Rule: ['ground beef', 'grated cheese'] -> spaghetti\n",
      "Support: 0.005332622317024397\n",
      "Confidence: 0.3225806451612903\n",
      "Lift: 3.283144395325426\n",
      "=====================================\n",
      "Rule: ['ground beef', 'mineral water'] -> herb & pepper\n",
      "Support: 0.006665777896280496\n",
      "Confidence: 0.39062500000000006\n",
      "Lift: 3.975682666214383\n",
      "=====================================\n",
      "Rule: ['ground beef', 'herb & pepper'] -> nan\n",
      "Support: 0.015997866951073192\n",
      "Confidence: 0.3234501347708895\n",
      "Lift: 3.2919938411349285\n",
      "=====================================\n",
      "Rule: ['ground beef', 'herb & pepper'] -> spaghetti\n",
      "Support: 0.006399146780429276\n",
      "Confidence: 0.3934426229508197\n",
      "Lift: 4.004359721511667\n",
      "=====================================\n",
      "Rule: ['ground beef', 'milk'] -> olive oil\n",
      "Support: 0.004932675643247567\n",
      "Confidence: 0.22424242424242427\n",
      "Lift: 3.40494417862839\n",
      "=====================================\n",
      "Rule: ['ground beef', 'tomato sauce'] -> nan\n",
      "Support: 0.005332622317024397\n",
      "Confidence: 0.3773584905660377\n",
      "Lift: 3.840659481324083\n",
      "=====================================\n",
      "Rule: ['ground beef', 'shrimp'] -> spaghetti\n",
      "Support: 0.005999200106652446\n",
      "Confidence: 0.5232558139534884\n",
      "Lift: 3.005315360233627\n",
      "=====================================\n",
      "Rule: ['milk', 'spaghetti'] -> olive oil\n",
      "Support: 0.007199040127982935\n",
      "Confidence: 0.20300751879699247\n",
      "Lift: 3.0825089038385434\n",
      "=====================================\n",
      "Rule: ['soup', 'mineral water'] -> olive oil\n",
      "Support: 0.005199306759098787\n",
      "Confidence: 0.22543352601156072\n",
      "Lift: 3.4230301186492245\n",
      "=====================================\n",
      "Rule: ['whole wheat pasta', 'nan'] -> olive oil\n",
      "Support: 0.007998933475536596\n",
      "Confidence: 0.2714932126696833\n",
      "Lift: 4.122410097642296\n",
      "=====================================\n",
      "Rule: ['shrimp', 'nan'] -> pasta\n",
      "Support: 0.005065991201173177\n",
      "Confidence: 0.3220338983050847\n",
      "Lift: 4.506672147735896\n",
      "=====================================\n",
      "Rule: ['spaghetti', 'pancakes'] -> olive oil\n",
      "Support: 0.005065991201173177\n",
      "Confidence: 0.20105820105820105\n",
      "Lift: 3.0529100529100526\n",
      "=====================================\n",
      "Rule: ['frozen vegetables', 'shrimp', 'nan'] -> chocolate\n",
      "Support: 0.005332622317024397\n",
      "Confidence: 0.23255813953488375\n",
      "Lift: 3.2545123221103784\n",
      "=====================================\n",
      "Rule: ['ground beef', 'cooking oil', 'spaghetti'] -> nan\n",
      "Support: 0.004799360085321957\n",
      "Confidence: 0.5714285714285714\n",
      "Lift: 3.2819951870487856\n",
      "=====================================\n",
      "Rule: ['frozen vegetables', 'ground beef', 'spaghetti'] -> nan\n",
      "Support: 0.008665511265164644\n",
      "Confidence: 0.31100478468899523\n",
      "Lift: 3.165328208890303\n",
      "=====================================\n",
      "Rule: ['frozen vegetables', 'milk', 'mineral water'] -> spaghetti\n",
      "Support: 0.004532728969470737\n",
      "Confidence: 0.28813559322033894\n",
      "Lift: 3.0228043143297376\n",
      "=====================================\n",
      "Rule: ['frozen vegetables', 'milk', 'nan'] -> olive oil\n",
      "Support: 0.004799360085321957\n",
      "Confidence: 0.20338983050847456\n",
      "Lift: 3.088314005352364\n",
      "=====================================\n",
      "Rule: ['frozen vegetables', 'shrimp', 'mineral water'] -> nan\n",
      "Support: 0.007199040127982935\n",
      "Confidence: 0.3068181818181818\n",
      "Lift: 3.218801652892562\n",
      "=====================================\n",
      "Rule: ['frozen vegetables', 'spaghetti', 'nan'] -> olive oil\n",
      "Support: 0.005732568990801226\n",
      "Confidence: 0.20574162679425836\n",
      "Lift: 3.1240241752707125\n",
      "=====================================\n",
      "Rule: ['frozen vegetables', 'shrimp', 'spaghetti'] -> nan\n",
      "Support: 0.005999200106652446\n",
      "Confidence: 0.21531100478468898\n",
      "Lift: 3.0131489680782684\n",
      "=====================================\n",
      "Rule: ['frozen vegetables', 'tomatoes', 'spaghetti'] -> nan\n",
      "Support: 0.006665777896280496\n",
      "Confidence: 0.23923444976076558\n",
      "Lift: 3.4980460188216425\n",
      "=====================================\n",
      "Rule: ['ground beef', 'grated cheese', 'nan'] -> spaghetti\n",
      "Support: 0.005332622317024397\n",
      "Confidence: 0.3225806451612903\n",
      "Lift: 3.283144395325426\n",
      "=====================================\n",
      "Rule: ['ground beef', 'mineral water', 'herb & pepper'] -> nan\n",
      "Support: 0.006665777896280496\n",
      "Confidence: 0.39062500000000006\n",
      "Lift: 3.975682666214383\n",
      "=====================================\n",
      "Rule: ['ground beef', 'herb & pepper', 'nan'] -> spaghetti\n",
      "Support: 0.006399146780429276\n",
      "Confidence: 0.3934426229508197\n",
      "Lift: 4.004359721511667\n",
      "=====================================\n",
      "Rule: ['ground beef', 'milk', 'nan'] -> olive oil\n",
      "Support: 0.004932675643247567\n",
      "Confidence: 0.22424242424242427\n",
      "Lift: 3.40494417862839\n",
      "=====================================\n",
      "Rule: ['ground beef', 'shrimp', 'spaghetti'] -> nan\n",
      "Support: 0.005999200106652446\n",
      "Confidence: 0.5232558139534884\n",
      "Lift: 3.005315360233627\n",
      "=====================================\n",
      "Rule: ['milk', 'spaghetti', 'nan'] -> olive oil\n",
      "Support: 0.007199040127982935\n",
      "Confidence: 0.20300751879699247\n",
      "Lift: 3.0825089038385434\n",
      "=====================================\n",
      "Rule: ['soup', 'mineral water', 'nan'] -> olive oil\n",
      "Support: 0.005199306759098787\n",
      "Confidence: 0.22543352601156072\n",
      "Lift: 3.4230301186492245\n",
      "=====================================\n",
      "Rule: ['spaghetti', 'pancakes', 'nan'] -> olive oil\n",
      "Support: 0.005065991201173177\n",
      "Confidence: 0.20105820105820105\n",
      "Lift: 3.0529100529100526\n",
      "=====================================\n",
      "Rule: ['frozen vegetables', 'milk', 'spaghetti', 'mineral water'] -> nan\n",
      "Support: 0.004532728969470737\n",
      "Confidence: 0.28813559322033894\n",
      "Lift: 3.0228043143297376\n",
      "=====================================\n"
     ]
    }
   ],
   "source": [
    "for item in association_rules:\n",
    "\n",
    "    # first index of the inner list\n",
    "    # Contains base item and add item\n",
    "    pair = item[0] \n",
    "    items = [x for x in pair]\n",
    "#     print(pair)\n",
    "    print(\"Rule: \" + str(items[:-1]) + \" -> \" + items[-1])\n",
    "\n",
    "    #second index of the inner list\n",
    "    print(\"Support: \" + str(item[1]))\n",
    "\n",
    "    #third index of the list located at 0th\n",
    "    #of the third index of the inner list\n",
    "\n",
    "    print(\"Confidence: \" + str(item[2][0][2]))\n",
    "    print(\"Lift: \" + str(item[2][0][3]))\n",
    "    print(\"=====================================\")"
   ]
  },
  {
   "cell_type": "markdown",
   "metadata": {},
   "source": [
    "## Efficient Apriori "
   ]
  },
  {
   "cell_type": "code",
   "execution_count": 90,
   "metadata": {},
   "outputs": [
    {
     "name": "stdout",
     "output_type": "stream",
     "text": [
      "Collecting efficient-apriori\n",
      "  Downloading https://files.pythonhosted.org/packages/fc/64/2768b3c9550dbcd504c03161ca77b71301c51b436e27f9a1bd9599303ba9/efficient_apriori-0.4.4-py3-none-any.whl\n",
      "Installing collected packages: efficient-apriori\n",
      "Successfully installed efficient-apriori-0.4.4\n"
     ]
    },
    {
     "name": "stderr",
     "output_type": "stream",
     "text": [
      "twisted 18.7.0 requires PyHamcrest>=1.9.0, which is not installed.\n",
      "You are using pip version 10.0.1, however version 18.1 is available.\n",
      "You should consider upgrading via the 'pip install --upgrade pip' command.\n"
     ]
    }
   ],
   "source": [
    "%%bash\n",
    "pip install efficient-apriori"
   ]
  },
  {
   "cell_type": "code",
   "execution_count": 95,
   "metadata": {},
   "outputs": [
    {
     "name": "stdout",
     "output_type": "stream",
     "text": [
      "[{apple} -> {bacon}, {apple} -> {eggs}, {banana} -> {bacon}, {eggs} -> {bacon}, {soup} -> {bacon}, {banana} -> {soup}, {apple, eggs} -> {bacon}, {apple, bacon} -> {eggs}, {apple} -> {bacon, eggs}, {banana, soup} -> {bacon}, {bacon, banana} -> {soup}, {banana} -> {bacon, soup}, {eggs, soup} -> {bacon}]\n"
     ]
    }
   ],
   "source": [
    "from efficient_apriori import apriori\n",
    "transactions = [('eggs', 'bacon', 'soup'),\n",
    "                ('eggs', 'bacon', 'apple'),\n",
    "                ('soup', 'bacon', 'banana')]\n",
    "itemsets, rules = apriori(transactions, min_support=0.2,  min_confidence=1)\n",
    "print(rules)\n",
    "# Print out every rule with 2 items on the left hand side,\n",
    "# 1 item on the right hand side, sorted by lift\n",
    "rules_rhs = filter(lambda rule: len(rule.lhs) == 2 and len(rule.rhs) == 1, rules)\n",
    "# for rule in sorted(rules_rhs, key=lambda rule: rule.lift):\n",
    "#   print(rule)"
   ]
  },
  {
   "cell_type": "code",
   "execution_count": 97,
   "metadata": {},
   "outputs": [],
   "source": [
    "# Using generator\n",
    "def data_generator(filename):\n",
    "  \"\"\"\n",
    "  Data generator, needs to return a generator to be called several times.\n",
    "  \"\"\"\n",
    "  def data_gen():\n",
    "    with open(filename) as file:\n",
    "      for line in file:\n",
    "        yield tuple(k.strip() for k in line.split(','))      \n",
    "\n",
    "  return data_gen\n",
    "\n",
    "transactions = data_generator('store_data.csv')\n",
    "itemsets, rules = apriori(transactions, min_support=0.9, min_confidence=0.6)"
   ]
  },
  {
   "cell_type": "code",
   "execution_count": 98,
   "metadata": {},
   "outputs": [
    {
     "data": {
      "text/plain": [
       "[]"
      ]
     },
     "execution_count": 98,
     "metadata": {},
     "output_type": "execute_result"
    }
   ],
   "source": [
    "rules"
   ]
  },
  {
   "cell_type": "code",
   "execution_count": null,
   "metadata": {},
   "outputs": [],
   "source": []
  }
 ],
 "metadata": {
  "kernelspec": {
   "display_name": "Python 3",
   "language": "python",
   "name": "python3"
  },
  "language_info": {
   "codemirror_mode": {
    "name": "ipython",
    "version": 3
   },
   "file_extension": ".py",
   "mimetype": "text/x-python",
   "name": "python",
   "nbconvert_exporter": "python",
   "pygments_lexer": "ipython3",
   "version": "3.7.0"
  }
 },
 "nbformat": 4,
 "nbformat_minor": 2
}
